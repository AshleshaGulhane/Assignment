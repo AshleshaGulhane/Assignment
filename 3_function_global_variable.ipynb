{
 "cells": [
  {
   "cell_type": "code",
   "execution_count": 1,
   "metadata": {},
   "outputs": [
    {
     "name": "stdout",
     "output_type": "stream",
     "text": [
      "x is 50\n",
      "Changed global x to 2\n",
      "Value of x is 2\n",
      "Value of x is 3\n"
     ]
    }
   ],
   "source": [
    "x=50\n",
    "\n",
    "def func():\n",
    "    global x\n",
    "    print('x is',x)\n",
    "    x=2\n",
    "    print('Changed global x to',x)\n",
    "    \n",
    "func()\n",
    "print('Value of x is',x)\n",
    "x=3\n",
    "print('Value of x is',x)"
   ]
  },
  {
   "cell_type": "code",
   "execution_count": null,
   "metadata": {
    "collapsed": true
   },
   "outputs": [],
   "source": []
  }
 ],
 "metadata": {
  "kernelspec": {
   "display_name": "Python 3",
   "language": "python",
   "name": "python3"
  },
  "language_info": {
   "codemirror_mode": {
    "name": "ipython",
    "version": 3
   },
   "file_extension": ".py",
   "mimetype": "text/x-python",
   "name": "python",
   "nbconvert_exporter": "python",
   "pygments_lexer": "ipython3",
   "version": "3.6.3"
  }
 },
 "nbformat": 4,
 "nbformat_minor": 2
}
