{
 "cells": [
  {
   "cell_type": "code",
   "execution_count": 1,
   "metadata": {
    "collapsed": true
   },
   "outputs": [],
   "source": [
    "import pandas as pd\n",
    "import numpy as np"
   ]
  },
  {
   "cell_type": "code",
   "execution_count": 2,
   "metadata": {},
   "outputs": [
    {
     "name": "stdout",
     "output_type": "stream",
     "text": [
      "<class 'pandas.core.panel.Panel'>\n",
      "Dimensions: 0 (items) x 0 (major_axis) x 0 (minor_axis)\n",
      "Items axis: None\n",
      "Major_axis axis: None\n",
      "Minor_axis axis: None\n"
     ]
    }
   ],
   "source": [
    "#------------Create an Empty Panel--------\n",
    "\n",
    "p=pd.Panel()\n",
    "print(p)"
   ]
  },
  {
   "cell_type": "code",
   "execution_count": 3,
   "metadata": {},
   "outputs": [
    {
     "name": "stdout",
     "output_type": "stream",
     "text": [
      "<class 'pandas.core.panel.Panel'>\n",
      "Dimensions: 2 (items) x 4 (major_axis) x 5 (minor_axis)\n",
      "Items axis: 0 to 1\n",
      "Major_axis axis: 0 to 3\n",
      "Minor_axis axis: 0 to 4\n",
      "          0         1         2         3         4\n",
      "0  0.523785  0.412906  0.946603  0.375134  0.714683\n",
      "1  0.805235  0.280653  0.710993  0.007236  0.726915\n",
      "2  0.821231  0.689735  0.283717  0.926443  0.379744\n",
      "3  0.200545  0.964844  0.882744  0.739535  0.409083\n",
      "          0         1         2         3         4\n",
      "0  0.449098  0.625010  0.321364  0.597889  0.992753\n",
      "1  0.335973  0.176844  0.051127  0.208994  0.652276\n",
      "2  0.176557  0.730213  0.843169  0.677864  0.238605\n",
      "3  0.943201  0.130428  0.550705  0.322606  0.270461\n"
     ]
    }
   ],
   "source": [
    "data=np.random.rand(2,4,5)\n",
    "p=pd.Panel(data)\n",
    "print(p)\n",
    "print(p[0])\n",
    "print(p[1])"
   ]
  },
  {
   "cell_type": "code",
   "execution_count": 4,
   "metadata": {},
   "outputs": [
    {
     "name": "stdout",
     "output_type": "stream",
     "text": [
      "<class 'pandas.core.panel.Panel'>\n",
      "Dimensions: 2 (items) x 4 (major_axis) x 3 (minor_axis)\n",
      "Items axis: Item1 to Item2\n",
      "Major_axis axis: 0 to 3\n",
      "Minor_axis axis: 0 to 2\n"
     ]
    }
   ],
   "source": [
    "#--------From dict of DataFrame Objects----------\n",
    "\n",
    "data={'Item1':pd.DataFrame(np.random.randn(4,3)),\n",
    "     'Item2':pd.DataFrame(np.random.randn(4,2))}\n",
    "\n",
    "p=pd.Panel(data)\n",
    "print(p)"
   ]
  },
  {
   "cell_type": "code",
   "execution_count": 6,
   "metadata": {},
   "outputs": [
    {
     "name": "stdout",
     "output_type": "stream",
     "text": [
      "          0         1         2\n",
      "0  0.600946  1.422460 -1.476981\n",
      "1 -0.772558  0.505082 -1.257727\n",
      "2 -0.244475 -0.750218 -1.136371\n",
      "3  0.070120  2.060115  1.325859\n",
      "=================================================================\n",
      "          0         1   2\n",
      "0  0.382891  0.402050 NaN\n",
      "1  1.299366 -1.369220 NaN\n",
      "2  1.347471 -0.844799 NaN\n",
      "3 -1.581734  0.623632 NaN\n",
      "      Item1     Item2\n",
      "0 -0.772558  1.299366\n",
      "1  0.505082 -1.369220\n",
      "2 -1.257727       NaN\n",
      "==========================================\n",
      "      Item1     Item2\n",
      "0  1.422460  0.402050\n",
      "1  0.505082 -1.369220\n",
      "2 -0.750218 -0.844799\n",
      "3  2.060115  0.623632\n"
     ]
    }
   ],
   "source": [
    "#---------------Using Items-----------\n",
    "\n",
    "data={'Item1':pd.DataFrame(np.random.randn(4,3)),\n",
    "     'Item2':pd.DataFrame(np.random.randn(4,2))}\n",
    "p=pd.Panel(data)\n",
    "print(p['Item1'])\n",
    "print('=================================================================')\n",
    "print(p['Item2'])\n",
    "\n",
    "#using Major_axis\n",
    "\n",
    "print(p.major_xs(1))\n",
    "print('==========================================')\n",
    "\n",
    "#Using minor_axis\n",
    "print(p.minor_xs(1))"
   ]
  },
  {
   "cell_type": "code",
   "execution_count": null,
   "metadata": {
    "collapsed": true
   },
   "outputs": [],
   "source": []
  }
 ],
 "metadata": {
  "kernelspec": {
   "display_name": "Python 3",
   "language": "python",
   "name": "python3"
  },
  "language_info": {
   "codemirror_mode": {
    "name": "ipython",
    "version": 3
   },
   "file_extension": ".py",
   "mimetype": "text/x-python",
   "name": "python",
   "nbconvert_exporter": "python",
   "pygments_lexer": "ipython3",
   "version": "3.6.3"
  }
 },
 "nbformat": 4,
 "nbformat_minor": 2
}
