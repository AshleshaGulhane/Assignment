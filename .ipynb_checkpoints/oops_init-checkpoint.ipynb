{
 "cells": [
  {
   "cell_type": "code",
   "execution_count": 13,
   "metadata": {},
   "outputs": [
    {
     "name": "stdout",
     "output_type": "stream",
     "text": [
      "Hello,my name is Swpnil\n",
      "Hello,my name is Anil\n"
     ]
    }
   ],
   "source": [
    "class Person:\n",
    "    def __init__ (self,fname):#give space after def\n",
    "        self.name=fname\n",
    "    def say_hi(self):\n",
    "        print('Hello,my name is',self.name)\n",
    "        \n",
    "p=Person('Swpnil')\n",
    "\n",
    "q=Person('Anil')\n",
    "\n",
    "p.say_hi()\n",
    "q.say_hi()\n",
    "\n",
    "#The previous 2 lines can also be written as\n",
    "#Person('Swaroop').say_hi()"
   ]
  },
  {
   "cell_type": "code",
   "execution_count": null,
   "metadata": {
    "collapsed": true
   },
   "outputs": [],
   "source": []
  }
 ],
 "metadata": {
  "kernelspec": {
   "display_name": "Python 3",
   "language": "python",
   "name": "python3"
  },
  "language_info": {
   "codemirror_mode": {
    "name": "ipython",
    "version": 3
   },
   "file_extension": ".py",
   "mimetype": "text/x-python",
   "name": "python",
   "nbconvert_exporter": "python",
   "pygments_lexer": "ipython3",
   "version": "3.6.3"
  }
 },
 "nbformat": 4,
 "nbformat_minor": 2
}
