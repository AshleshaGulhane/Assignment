{
 "cells": [
  {
   "cell_type": "code",
   "execution_count": 7,
   "metadata": {},
   "outputs": [
    {
     "name": "stdout",
     "output_type": "stream",
     "text": [
      "(Initializing R2-D2)\n",
      "Greetings,my masters call me R2-D2.\n",
      "We have 1 robots.\n",
      "(Initializing C-3PQ)\n",
      "Greetings,my masters call me C-3PQ.\n",
      "We have 2 robots.\n",
      "\n",
      "Robots can do some work here.\n",
      "\n",
      "Robots have finished their work.So let's destroy them.\n",
      "R2-D2 is being destroyed!\n",
      "There are still 1 robots working.\n",
      "C-3PQ is being destroyed!\n",
      "C-3PQ was the last one.\n",
      "We have 0 robots.\n",
      "Greeting by the robot.\n",
      "           Yeah,they can do that.\n",
      "Represents a robot,with a name.\n"
     ]
    }
   ],
   "source": [
    "class Robot:\n",
    "    \"\"\"Represents a robot,with a name.\"\"\"\n",
    "    #A class variable,counting the number of robots\n",
    "    population=0\n",
    "    \n",
    "    def __init__(self,name):\n",
    "        \"\"\"Initializes the data.\"\"\"\n",
    "        self.name=name\n",
    "        print(\"(Initializing {})\".format(self.name))\n",
    "        #When this robot is created,the robot\n",
    "        #adds to the population\n",
    "        Robot.population += 1\n",
    "        \n",
    "    def die(self):\n",
    "        \"\"\"I am dying.\"\"\"\n",
    "        print(\"{} is being destroyed!\".format(self.name))\n",
    "        Robot.population -= 1\n",
    "        if Robot.population == 0:\n",
    "            print (\"{} was the last one.\".format(self.name))\n",
    "        else:\n",
    "            print(\"There are still {:d} robots working.\".format(Robot.population))\n",
    "            \n",
    "    def say_hi(self):\n",
    "        \"\"\"Greeting by the robot.\n",
    "           Yeah,they can do that.\"\"\"\n",
    "        print(\"Greetings,my masters call me {}.\".format(self.name))\n",
    "        \n",
    "    @classmethod\n",
    "    def how_many(cls):\n",
    "        \"\"\"Prints the current population.\"\"\"\n",
    "        print (\"We have {:d} robots.\".format(cls.population))\n",
    "        \n",
    "droid1=Robot(\"R2-D2\")\n",
    "droid1.say_hi()\n",
    "\n",
    "Robot.how_many()\n",
    "\n",
    "droid2=Robot(\"C-3PQ\")\n",
    "droid2.say_hi()\n",
    "\n",
    "Robot.how_many()\n",
    "\n",
    "print(\"\\nRobots can do some work here.\\n\")\n",
    "print(\"Robots have finished their work.So let's destroy them.\")\n",
    "\n",
    "droid1.die()\n",
    "droid2.die()\n",
    "\n",
    "Robot.how_many()\n",
    "\n",
    "print(droid1.say_hi.__doc__)\n",
    "print(Robot.__doc__)\n"
   ]
  },
  {
   "cell_type": "code",
   "execution_count": null,
   "metadata": {
    "collapsed": true
   },
   "outputs": [],
   "source": []
  }
 ],
 "metadata": {
  "kernelspec": {
   "display_name": "Python 3",
   "language": "python",
   "name": "python3"
  },
  "language_info": {
   "codemirror_mode": {
    "name": "ipython",
    "version": 3
   },
   "file_extension": ".py",
   "mimetype": "text/x-python",
   "name": "python",
   "nbconvert_exporter": "python",
   "pygments_lexer": "ipython3",
   "version": "3.6.3"
  }
 },
 "nbformat": 4,
 "nbformat_minor": 2
}
