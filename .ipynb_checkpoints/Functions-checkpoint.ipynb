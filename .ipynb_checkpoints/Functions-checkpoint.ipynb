{
 "cells": [
  {
   "cell_type": "code",
   "execution_count": 5,
   "metadata": {},
   "outputs": [
    {
     "name": "stdout",
     "output_type": "stream",
     "text": [
      "4 is maximum\n",
      "7 is maximum\n"
     ]
    }
   ],
   "source": [
    "def print_max(a,b):\n",
    "    if a>b:\n",
    "        print (a,'is maximum')\n",
    "    elif a==b:\n",
    "        print (a,'is equal to',b)\n",
    "    else:\n",
    "        print (b,'is maximum')\n",
    "        \n",
    "#directly pass literal values\n",
    "print_max(3,4)\n",
    "\n",
    "x=5\n",
    "y=7\n",
    "\n",
    "#pass variables as arguments\n",
    "print_max(x,y)"
   ]
  },
  {
   "cell_type": "code",
   "execution_count": null,
   "metadata": {
    "collapsed": true
   },
   "outputs": [],
   "source": []
  }
 ],
 "metadata": {
  "kernelspec": {
   "display_name": "Python 3",
   "language": "python",
   "name": "python3"
  },
  "language_info": {
   "codemirror_mode": {
    "name": "ipython",
    "version": 3
   },
   "file_extension": ".py",
   "mimetype": "text/x-python",
   "name": "python",
   "nbconvert_exporter": "python",
   "pygments_lexer": "ipython3",
   "version": "3.6.3"
  }
 },
 "nbformat": 4,
 "nbformat_minor": 2
}
