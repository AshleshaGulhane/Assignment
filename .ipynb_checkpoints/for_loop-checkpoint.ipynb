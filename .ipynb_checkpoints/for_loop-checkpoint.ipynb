{
 "cells": [
  {
   "cell_type": "code",
   "execution_count": 1,
   "metadata": {},
   "outputs": [
    {
     "name": "stdout",
     "output_type": "stream",
     "text": [
      "1\n",
      "3\n",
      "5\n",
      "7\n",
      "9\n",
      "DDD\n"
     ]
    }
   ],
   "source": [
    "n=10\n",
    "for i in range(1,n,2):\n",
    "    print(i)\n",
    "print('DDD')"
   ]
  },
  {
   "cell_type": "code",
   "execution_count": 2,
   "metadata": {},
   "outputs": [
    {
     "name": "stdout",
     "output_type": "stream",
     "text": [
      "1\n",
      "DDD\n",
      "2\n",
      "DDD\n",
      "3\n",
      "DDD\n",
      "4\n",
      "DDD\n",
      "5\n",
      "DDD\n",
      "6\n",
      "DDD\n",
      "7\n",
      "DDD\n",
      "8\n",
      "DDD\n",
      "9\n",
      "DDD\n"
     ]
    }
   ],
   "source": [
    "n=10\n",
    "for i in range(1,n,1):\n",
    "    print(i)\n",
    "    print('DDD')"
   ]
  },
  {
   "cell_type": "code",
   "execution_count": null,
   "metadata": {
    "collapsed": true
   },
   "outputs": [],
   "source": []
  }
 ],
 "metadata": {
  "kernelspec": {
   "display_name": "Python 3",
   "language": "python",
   "name": "python3"
  },
  "language_info": {
   "codemirror_mode": {
    "name": "ipython",
    "version": 3
   },
   "file_extension": ".py",
   "mimetype": "text/x-python",
   "name": "python",
   "nbconvert_exporter": "python",
   "pygments_lexer": "ipython3",
   "version": "3.6.3"
  }
 },
 "nbformat": 4,
 "nbformat_minor": 2
}
