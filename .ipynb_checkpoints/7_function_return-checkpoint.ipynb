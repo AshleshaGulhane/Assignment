{
 "cells": [
  {
   "cell_type": "code",
   "execution_count": 4,
   "metadata": {},
   "outputs": [
    {
     "name": "stdout",
     "output_type": "stream",
     "text": [
      "3\n",
      "<class 'int'>\n",
      "The numbers are equal\n",
      "<class 'str'>\n"
     ]
    }
   ],
   "source": [
    "def maximum(x,y):\n",
    "    if x>y:\n",
    "        return x\n",
    "    elif x==y:\n",
    "        return 'The numbers are equal'\n",
    "    else:\n",
    "        return y\n",
    "    \n",
    "c=maximum(2,3)\n",
    "print(c)\n",
    "print(type(c))\n",
    "c=maximum(3,3)\n",
    "print(c)\n",
    "print(type(c))"
   ]
  },
  {
   "cell_type": "code",
   "execution_count": null,
   "metadata": {
    "collapsed": true
   },
   "outputs": [],
   "source": []
  }
 ],
 "metadata": {
  "kernelspec": {
   "display_name": "Python 3",
   "language": "python",
   "name": "python3"
  },
  "language_info": {
   "codemirror_mode": {
    "name": "ipython",
    "version": 3
   },
   "file_extension": ".py",
   "mimetype": "text/x-python",
   "name": "python",
   "nbconvert_exporter": "python",
   "pygments_lexer": "ipython3",
   "version": "3.6.3"
  }
 },
 "nbformat": 4,
 "nbformat_minor": 2
}
