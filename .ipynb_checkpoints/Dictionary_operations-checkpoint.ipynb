{
 "cells": [
  {
   "cell_type": "code",
   "execution_count": 3,
   "metadata": {},
   "outputs": [
    {
     "name": "stdout",
     "output_type": "stream",
     "text": [
      "{'Swaroop': 'swaroop@swaroopch.com', 'Anup': 'Anup@wall.org', 'Pranay': 'Pranay@ruby-lang.org', 'Vishal': 'Vishal@hotmail.com'}\n",
      "<class 'dict'>\n",
      "Swaroop's address is swaroop@swaroopch.com\n",
      "\n",
      "There are3 contacts in the address-book\n",
      "\n",
      "dict_items([('Swaroop', 'swaroop@swaroopch.com'), ('Anup', 'Anup@wall.org'), ('Pranay', 'Pranay@ruby-lang.org')])\n",
      "Contact Swaroop at swaroop@swaroopch.com\n",
      "Contact Anup at Anup@wall.org\n",
      "Contact Pranay at Pranay@ruby-lang.org\n",
      "{'Swaroop': 'swaroop@swaroopch.com', 'Anup': 'Anup@wall.org', 'Pranay': 'Pranay@ruby-lang.org', 'Chinmay': 'Chinmay@python.org'}\n",
      "\n",
      "Chinmay's address is Chinmay@python.org\n"
     ]
    }
   ],
   "source": [
    "ab={'Swaroop':'swaroop@swaroopch.com',\n",
    "     'Anup':'Anup@wall.org',\n",
    "      'Pranay':'Pranay@ruby-lang.org',\n",
    "      'Vishal':'Vishal@hotmail.com'}\n",
    "\n",
    "print(ab)\n",
    "print(type(ab))\n",
    "\n",
    "print(\"Swaroop's address is\",ab['Swaroop'])\n",
    "\n",
    "#Deleting a key-value pair\n",
    "del ab['Vishal']\n",
    "\n",
    "print('\\nThere are {} contacts in the address-book\\n'.format(len(ab)))\n",
    "\n",
    "print(ab.items())\n",
    "\n",
    "for name,address in ab.items():\n",
    "    print('Contact {} at {}'.format(name,address))\n",
    "    \n",
    "#Adding a key-value pair\n",
    "ab['Chinmay']='Chinmay@python.org'\n",
    "print(ab)\n",
    "\n",
    "if 'Chinmay' in ab:\n",
    "    print(\"\\nChinmay's address is\",ab['Chinmay'])"
   ]
  },
  {
   "cell_type": "code",
   "execution_count": null,
   "metadata": {
    "collapsed": true
   },
   "outputs": [],
   "source": []
  }
 ],
 "metadata": {
  "kernelspec": {
   "display_name": "Python 3",
   "language": "python",
   "name": "python3"
  },
  "language_info": {
   "codemirror_mode": {
    "name": "ipython",
    "version": 3
   },
   "file_extension": ".py",
   "mimetype": "text/x-python",
   "name": "python",
   "nbconvert_exporter": "python",
   "pygments_lexer": "ipython3",
   "version": "3.6.3"
  }
 },
 "nbformat": 4,
 "nbformat_minor": 2
}
