{
 "cells": [
  {
   "cell_type": "code",
   "execution_count": 1,
   "metadata": {
    "collapsed": true
   },
   "outputs": [],
   "source": [
    "import numpy as np\n",
    "from matplotlib import pyplot as plt\n",
    "from scipy import optimize"
   ]
  },
  {
   "cell_type": "code",
   "execution_count": 2,
   "metadata": {},
   "outputs": [
    {
     "data": {
      "image/png": "[encoded data removed]",
      "text/plain": [
       "<matplotlib.figure.Figure at 0x23073759668>"
      ]
     },
     "metadata": {},
     "output_type": "display_data"
    }
   ],
   "source": [
    "########finding the minimum of a scalar function######\n",
    "def f(x):\n",
    "    return x**2 + 10*np.sin(x)\n",
    "\n",
    "x=np.arange(-10,10,0.1)\n",
    "plt.plot(x,f(x))\n",
    "plt.show()"
   ]
  },
  {
   "cell_type": "code",
   "execution_count": 3,
   "metadata": {},
   "outputs": [
    {
     "name": "stdout",
     "output_type": "stream",
     "text": [
      "[ 3.83746709]\n",
      "Optimization terminated successfully.\n",
      "         Current function value: -7.945823\n",
      "         Iterations: 5\n",
      "         Function evaluations: 18\n",
      "         Gradient evaluations: 6\n",
      "[-1.30644012]\n"
     ]
    }
   ],
   "source": [
    "###########BFGS algorithm##########\n",
    "\n",
    "print(optimize.fmin_bfgs(f,3,disp=False))\n",
    "print(optimize.fmin_bfgs(f,0))"
   ]
  },
  {
   "cell_type": "code",
   "execution_count": 4,
   "metadata": {},
   "outputs": [
    {
     "name": "stdout",
     "output_type": "stream",
     "text": [
      "                        fun: -7.945823375615284\n",
      " lowest_optimization_result:       fun: -7.945823375615284\n",
      " hess_inv: array([[ 0.08582129]])\n",
      "      jac: array([  1.19209290e-07])\n",
      "  message: 'Optimization terminated successfully.'\n",
      "     nfev: 15\n",
      "      nit: 3\n",
      "     njev: 5\n",
      "   status: 0\n",
      "  success: True\n",
      "        x: array([-1.30644001])\n",
      "                    message: ['requested number of basinhopping iterations completed successfully']\n",
      "      minimization_failures: 0\n",
      "                       nfev: 1533\n",
      "                        nit: 100\n",
      "                       njev: 511\n",
      "                          x: array([-1.30644001])\n"
     ]
    }
   ],
   "source": [
    "########### basinhopping ######\n",
    "print(optimize.basinhopping(f,0))"
   ]
  },
  {
   "cell_type": "code",
   "execution_count": 5,
   "metadata": {},
   "outputs": [
    {
     "name": "stdout",
     "output_type": "stream",
     "text": [
      "[ 0.]\n",
      "###########################################\n",
      "[-2.47948183]\n",
      "###########################################\n",
      "[  2.57478115e-12  -2.47948183e+00]\n"
     ]
    }
   ],
   "source": [
    "#######roots of a scalar function#######\n",
    "\n",
    "root=optimize.fsolve(f,1) #our initial guess is 1\n",
    "print(root)\n",
    "print(\"###########################################\")\n",
    "root2=optimize.fsolve(f,-2.5)\n",
    "print(root2)\n",
    "print(\"###########################################\")\n",
    "root3=optimize.fsolve(f,[1,-2.5])\n",
    "print(root3)"
   ]
  },
  {
   "cell_type": "code",
   "execution_count": null,
   "metadata": {
    "collapsed": true
   },
   "outputs": [],
   "source": []
  }
 ],
 "metadata": {
  "kernelspec": {
   "display_name": "Python 3",
   "language": "python",
   "name": "python3"
  },
  "language_info": {
   "codemirror_mode": {
    "name": "ipython",
    "version": 3
   },
   "file_extension": ".py",
   "mimetype": "text/x-python",
   "name": "python",
   "nbconvert_exporter": "python",
   "pygments_lexer": "ipython3",
   "version": "3.6.3"
  }
 },
 "nbformat": 4,
 "nbformat_minor": 2
}
