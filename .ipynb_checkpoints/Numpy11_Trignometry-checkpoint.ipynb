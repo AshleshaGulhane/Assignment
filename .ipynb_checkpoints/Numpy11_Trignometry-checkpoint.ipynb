{
 "cells": [
  {
   "cell_type": "code",
   "execution_count": 1,
   "metadata": {
    "collapsed": true
   },
   "outputs": [],
   "source": [
    "import numpy as np"
   ]
  },
  {
   "cell_type": "code",
   "execution_count": 3,
   "metadata": {},
   "outputs": [
    {
     "name": "stdout",
     "output_type": "stream",
     "text": [
      "Sine of different angles:\n",
      "[ 0.          0.5         0.70710678  0.8660254   1.        ]\n",
      "\n",
      "\n"
     ]
    }
   ],
   "source": [
    "a=np.array([0,30,45,60,90])\n",
    "print('Sine of different angles:')\n",
    "#Convert to radians by multiplying with pi/180\n",
    "print(np.sin(a*np.pi/180))\n",
    "print('\\n')"
   ]
  },
  {
   "cell_type": "code",
   "execution_count": 4,
   "metadata": {},
   "outputs": [
    {
     "name": "stdout",
     "output_type": "stream",
     "text": [
      "Cosine values for angles in array:\n",
      "[  1.00000000e+00   8.66025404e-01   7.07106781e-01   5.00000000e-01\n",
      "   6.12323400e-17]\n",
      "\n",
      "\n"
     ]
    }
   ],
   "source": [
    "print('Cosine values for angles in array:')\n",
    "print(np.cos(a*np.pi/180))\n",
    "print('\\n')"
   ]
  },
  {
   "cell_type": "code",
   "execution_count": 5,
   "metadata": {},
   "outputs": [
    {
     "name": "stdout",
     "output_type": "stream",
     "text": [
      "Tangent values for given angles:\n",
      "[  0.00000000e+00   5.77350269e-01   1.00000000e+00   1.73205081e+00\n",
      "   1.63312394e+16]\n"
     ]
    }
   ],
   "source": [
    "print(\"Tangent values for given angles:\")\n",
    "print(np.tan(a*np.pi/180))"
   ]
  },
  {
   "cell_type": "code",
   "execution_count": null,
   "metadata": {
    "collapsed": true
   },
   "outputs": [],
   "source": []
  }
 ],
 "metadata": {
  "kernelspec": {
   "display_name": "Python 3",
   "language": "python",
   "name": "python3"
  },
  "language_info": {
   "codemirror_mode": {
    "name": "ipython",
    "version": 3
   },
   "file_extension": ".py",
   "mimetype": "text/x-python",
   "name": "python",
   "nbconvert_exporter": "python",
   "pygments_lexer": "ipython3",
   "version": "3.6.3"
  }
 },
 "nbformat": 4,
 "nbformat_minor": 2
}
