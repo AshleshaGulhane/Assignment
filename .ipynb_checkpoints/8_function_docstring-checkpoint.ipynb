{
 "cells": [
  {
   "cell_type": "code",
   "execution_count": 1,
   "metadata": {},
   "outputs": [
    {
     "name": "stdout",
     "output_type": "stream",
     "text": [
      "5 is maximum\n",
      "Prints the maximum of two numbers.\n",
      "       The two values must be integers.\n"
     ]
    }
   ],
   "source": [
    "def print_max(x,y):\n",
    "    '''Prints the maximum of two numbers.\n",
    "       The two values must be integers.'''\n",
    "    # convert to integers,if possible\n",
    "    x=int(x)\n",
    "    y=int(y)\n",
    "    if x>y:\n",
    "        print(x,'is maximum')\n",
    "    else:\n",
    "        print(y,'is maximum')\n",
    "        \n",
    "print_max(3,5)\n",
    "\n",
    "print (print_max.__doc__)"
   ]
  },
  {
   "cell_type": "code",
   "execution_count": null,
   "metadata": {
    "collapsed": true
   },
   "outputs": [],
   "source": []
  }
 ],
 "metadata": {
  "kernelspec": {
   "display_name": "Python 3",
   "language": "python",
   "name": "python3"
  },
  "language_info": {
   "codemirror_mode": {
    "name": "ipython",
    "version": 3
   },
   "file_extension": ".py",
   "mimetype": "text/x-python",
   "name": "python",
   "nbconvert_exporter": "python",
   "pygments_lexer": "ipython3",
   "version": "3.6.3"
  }
 },
 "nbformat": 4,
 "nbformat_minor": 2
}
