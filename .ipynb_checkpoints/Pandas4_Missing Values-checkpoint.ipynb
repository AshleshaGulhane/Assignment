{
 "cells": [
  {
   "cell_type": "code",
   "execution_count": 1,
   "metadata": {
    "collapsed": true
   },
   "outputs": [],
   "source": [
    "#import the pandas library\n",
    "import pandas as pd\n",
    "import numpy as np"
   ]
  },
  {
   "cell_type": "code",
   "execution_count": 3,
   "metadata": {},
   "outputs": [
    {
     "name": "stdout",
     "output_type": "stream",
     "text": [
      "        one       two     three\n",
      "a -0.184705  1.778109 -0.779291\n",
      "b       NaN       NaN       NaN\n",
      "c -0.224180  0.062579  1.231609\n",
      "d       NaN       NaN       NaN\n",
      "e -0.852986 -1.838758 -1.428918\n",
      "f -2.348515  0.684984  2.245023\n",
      "g       NaN       NaN       NaN\n",
      "h -0.133959 -1.219633  0.188482\n"
     ]
    }
   ],
   "source": [
    "df=pd.DataFrame(np.random.randn(5,3),index=['a','c','e','f','h'],columns=['one','two','three'])\n",
    "\n",
    "df=df.reindex(['a','b','c','d','e','f','g','h'])\n",
    "\n",
    "print(df)"
   ]
  },
  {
   "cell_type": "code",
   "execution_count": 4,
   "metadata": {},
   "outputs": [
    {
     "name": "stdout",
     "output_type": "stream",
     "text": [
      "a    False\n",
      "b     True\n",
      "c    False\n",
      "d     True\n",
      "e    False\n",
      "f    False\n",
      "g     True\n",
      "h    False\n",
      "Name: one, dtype: bool\n",
      "a     True\n",
      "b    False\n",
      "c     True\n",
      "d    False\n",
      "e     True\n",
      "f     True\n",
      "g    False\n",
      "h     True\n",
      "Name: one, dtype: bool\n"
     ]
    }
   ],
   "source": [
    "#-------------Check for Missing Values-----------\n",
    "\n",
    "print(df['one'].isnull())\n",
    "\n",
    "print(df['one'].notnull())"
   ]
  },
  {
   "cell_type": "code",
   "execution_count": 5,
   "metadata": {},
   "outputs": [
    {
     "name": "stdout",
     "output_type": "stream",
     "text": [
      "-3.7443455246950257\n",
      "nan\n"
     ]
    }
   ],
   "source": [
    "#--------------Calculating with Missing Data---------\n",
    "#--------------When summing data,NA will be treated as Zero-------\n",
    "#--------If the data are all NA,then the result will be NA-------\n",
    "\n",
    "print(df['one'].sum())\n",
    "\n",
    "df_NA=pd.DataFrame(index=[0,1,2,3,4,5],columns=['one','two'])\n",
    "print(df_NA['one'].sum())"
   ]
  },
  {
   "cell_type": "code",
   "execution_count": 6,
   "metadata": {},
   "outputs": [
    {
     "name": "stdout",
     "output_type": "stream",
     "text": [
      "        one       two     three\n",
      "a -0.264360  0.416794  0.771259\n",
      "b       NaN       NaN       NaN\n",
      "c  0.824843 -1.385251 -0.916974\n",
      "nan replaced with '0':\n",
      "        one       two     three\n",
      "a -0.264360  0.416794  0.771259\n",
      "b  0.000000  0.000000  0.000000\n",
      "c  0.824843 -1.385251 -0.916974\n"
     ]
    }
   ],
   "source": [
    "#-------------Replace Nan with a scalar Value-------------\n",
    "\n",
    "df=pd.DataFrame(np.random.randn(3,3),index=['a','c','e'],columns=['one','two','three'])\n",
    "df=df.reindex(['a','b','c'])\n",
    "print(df)\n",
    "print(\"nan replaced with '0':\")\n",
    "print(df.fillna(0))"
   ]
  },
  {
   "cell_type": "code",
   "execution_count": 8,
   "metadata": {},
   "outputs": [
    {
     "name": "stdout",
     "output_type": "stream",
     "text": [
      "        one       two     three\n",
      "a  0.118043  1.478591 -0.198038\n",
      "b  0.118043  1.478591 -0.198038\n",
      "c -2.043926  0.153713  0.509534\n",
      "d -2.043926  0.153713  0.509534\n",
      "e -0.149434 -0.939428  0.133564\n",
      "f -0.494394 -0.103280  0.068055\n",
      "g -0.494394 -0.103280  0.068055\n",
      "h -1.957827 -0.414186 -0.448656\n"
     ]
    }
   ],
   "source": [
    "#-----------------------Fill NA forward and Backward-------------\n",
    "\n",
    "df=pd.DataFrame(np.random.randn(5,3),index=['a','c','e','f','h'],columns=['one','two','three'])\n",
    "df=df.reindex(['a','b','c','d','e','f','g','h'])\n",
    "\n",
    "print(df.fillna(method='pad'))"
   ]
  },
  {
   "cell_type": "code",
   "execution_count": 9,
   "metadata": {},
   "outputs": [
    {
     "name": "stdout",
     "output_type": "stream",
     "text": [
      "        one       two     three\n",
      "a -0.572702  0.159267 -0.386169\n",
      "b  0.068106  0.805758  0.797873\n",
      "c  0.068106  0.805758  0.797873\n",
      "d -2.103990 -0.846765 -0.766654\n",
      "e -2.103990 -0.846765 -0.766654\n",
      "f -0.975418 -0.512427 -1.401187\n",
      "g -0.097737  0.849075  0.123365\n",
      "h -0.097737  0.849075  0.123365\n"
     ]
    }
   ],
   "source": [
    "df=pd.DataFrame(np.random.randn(5,3),index=['a','c','e','f','h'],columns=['one','two','three'])\n",
    "\n",
    "df=df.reindex(['a','b','c','d','e','f','g','h'])\n",
    "print(df.fillna(method='backfill'))"
   ]
  },
  {
   "cell_type": "code",
   "execution_count": 10,
   "metadata": {},
   "outputs": [
    {
     "name": "stdout",
     "output_type": "stream",
     "text": [
      "        one       two     three\n",
      "a  1.154147  0.545710  0.828459\n",
      "c  1.046300 -0.214773  0.885923\n",
      "e  1.817137 -0.174868  0.107542\n",
      "f  1.991556 -0.901227  1.672981\n",
      "h -0.502727 -0.724961 -1.215185\n",
      "==========================================\n",
      "        one       two     three\n",
      "a  1.154147  0.545710  0.828459\n",
      "c  1.046300 -0.214773  0.885923\n",
      "e  1.817137 -0.174868  0.107542\n",
      "f  1.991556 -0.901227  1.672981\n",
      "h -0.502727 -0.724961 -1.215185\n"
     ]
    }
   ],
   "source": [
    "#-------------Drop Missing Values------------\n",
    "\n",
    "df=pd.DataFrame(np.random.randn(5,3),index=['a','c','e','f','h'],columns=['one','two','three'])\n",
    "\n",
    "df=df.reindex(['a','b','c','d','e','f','g','h'])\n",
    "print(df.dropna())\n",
    "print(\"==========================================\")\n",
    "print(df.dropna(axis=0))"
   ]
  },
  {
   "cell_type": "code",
   "execution_count": 11,
   "metadata": {},
   "outputs": [
    {
     "name": "stdout",
     "output_type": "stream",
     "text": [
      "   one  two\n",
      "0   10   10\n",
      "1   20    0\n",
      "2   30   30\n",
      "3   40   40\n",
      "4   50   50\n",
      "5   60   60\n"
     ]
    }
   ],
   "source": [
    "#----------------Replace Missing (or) Generic Values-----------\n",
    "\n",
    "df=pd.DataFrame({'one':[10,20,30,40,50,2000],\n",
    "                'two':[1000,0,30,40,50,60]})\n",
    "print(df.replace({1000:10,2000:60}))"
   ]
  },
  {
   "cell_type": "code",
   "execution_count": null,
   "metadata": {
    "collapsed": true
   },
   "outputs": [],
   "source": []
  }
 ],
 "metadata": {
  "kernelspec": {
   "display_name": "Python 3",
   "language": "python",
   "name": "python3"
  },
  "language_info": {
   "codemirror_mode": {
    "name": "ipython",
    "version": 3
   },
   "file_extension": ".py",
   "mimetype": "text/x-python",
   "name": "python",
   "nbconvert_exporter": "python",
   "pygments_lexer": "ipython3",
   "version": "3.6.3"
  }
 },
 "nbformat": 4,
 "nbformat_minor": 2
}
