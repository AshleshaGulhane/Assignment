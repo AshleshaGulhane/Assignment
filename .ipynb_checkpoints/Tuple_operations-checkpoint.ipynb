{
 "cells": [
  {
   "cell_type": "code",
   "execution_count": 1,
   "metadata": {},
   "outputs": [
    {
     "name": "stdout",
     "output_type": "stream",
     "text": [
      "Number of animals in the zoo is 3\n",
      "Number of cages in the new zoo is 3\n",
      "All animals in new zoo are ('monkey', 'camel', ('python', 'elephant', 'penguin'))\n",
      "Animals brought from old zoo are ('python', 'elephant', 'penguin')\n",
      "Last animal brought from old zoo is penguin\n",
      "Number of animals in the new zoo is 5\n",
      "monkey\n",
      "camel\n",
      "('python', 'elephant', 'penguin')\n"
     ]
    }
   ],
   "source": [
    "#In tuple we cannot add(i.e use append method like list) or delete.It is fixed.\n",
    "zoo=('python','elephant','penguin')\n",
    "\n",
    "print('Number of animals in the zoo is',len(zoo))\n",
    "\n",
    "new_zoo='monkey','camel',zoo\n",
    "\n",
    "print('Number of cages in the new zoo is',len(new_zoo))\n",
    "\n",
    "print('All animals in new zoo are',new_zoo)\n",
    "\n",
    "print('Animals brought from old zoo are',new_zoo[2])\n",
    "\n",
    "print('Last animal brought from old zoo is',new_zoo[2][2])\n",
    "\n",
    "print('Number of animals in the new zoo is', \\\n",
    "len(new_zoo)-1+len(new_zoo[2]))\n",
    "\n",
    "for element in new_zoo:\n",
    "    print(element)"
   ]
  },
  {
   "cell_type": "code",
   "execution_count": null,
   "metadata": {
    "collapsed": true
   },
   "outputs": [],
   "source": []
  }
 ],
 "metadata": {
  "kernelspec": {
   "display_name": "Python 3",
   "language": "python",
   "name": "python3"
  },
  "language_info": {
   "codemirror_mode": {
    "name": "ipython",
    "version": 3
   },
   "file_extension": ".py",
   "mimetype": "text/x-python",
   "name": "python",
   "nbconvert_exporter": "python",
   "pygments_lexer": "ipython3",
   "version": "3.6.3"
  }
 },
 "nbformat": 4,
 "nbformat_minor": 2
}
