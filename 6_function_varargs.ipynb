{
 "cells": [
  {
   "cell_type": "code",
   "execution_count": 4,
   "metadata": {},
   "outputs": [
    {
     "name": "stdout",
     "output_type": "stream",
     "text": [
      "10\n",
      "(1, 2, 3)\n",
      "{'vegetable': 50, 'fruits': 100}\n",
      "166\n",
      "-----------------------\n",
      "5\n",
      "(1, 2, 3, 4, 5)\n",
      "{'vegetables': 50, 'fruits': 100, 'bags': 10}\n",
      "180\n"
     ]
    }
   ],
   "source": [
    "def total(initial=5,*numbers,**keywords):\n",
    "    count=initial\n",
    "    print(count)\n",
    "    print(numbers)#tuples\n",
    "    for number in numbers:\n",
    "        #count=count+number\n",
    "        count+=number\n",
    "    print(keywords)#dictionary prints in {}i.e like in jason format\n",
    "    for key in keywords:\n",
    "        count +=keywords[key]\n",
    "    return(count)\n",
    "print(total(10,1,2,3,vegetable=50,fruits=100))\n",
    "print('-----------------------')\n",
    "print(total(5,1,2,3,4,5,vegetables=50,fruits=100,bags=10))"
   ]
  },
  {
   "cell_type": "code",
   "execution_count": null,
   "metadata": {
    "collapsed": true
   },
   "outputs": [],
   "source": []
  }
 ],
 "metadata": {
  "kernelspec": {
   "display_name": "Python 3",
   "language": "python",
   "name": "python3"
  },
  "language_info": {
   "codemirror_mode": {
    "name": "ipython",
    "version": 3
   },
   "file_extension": ".py",
   "mimetype": "text/x-python",
   "name": "python",
   "nbconvert_exporter": "python",
   "pygments_lexer": "ipython3",
   "version": "3.6.3"
  }
 },
 "nbformat": 4,
 "nbformat_minor": 2
}
