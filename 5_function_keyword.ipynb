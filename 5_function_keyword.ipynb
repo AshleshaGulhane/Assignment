{
 "cells": [
  {
   "cell_type": "code",
   "execution_count": 1,
   "metadata": {},
   "outputs": [
    {
     "name": "stdout",
     "output_type": "stream",
     "text": [
      "a is  3 and b is 7 and c is 10\n",
      "a is  25 and b is 5 and c is 24\n",
      "a is  100 and b is 5 and c is 50\n"
     ]
    }
   ],
   "source": [
    "def func(a,b=5,c=10):\n",
    "    print('a is ',a,'and b is',b,'and c is',c)\n",
    "    \n",
    "func(3,7)\n",
    "\n",
    "func(25,c=24)\n",
    "\n",
    "func(c=50,a=100)"
   ]
  },
  {
   "cell_type": "code",
   "execution_count": null,
   "metadata": {
    "collapsed": true
   },
   "outputs": [],
   "source": []
  }
 ],
 "metadata": {
  "kernelspec": {
   "display_name": "Python 3",
   "language": "python",
   "name": "python3"
  },
  "language_info": {
   "codemirror_mode": {
    "name": "ipython",
    "version": 3
   },
   "file_extension": ".py",
   "mimetype": "text/x-python",
   "name": "python",
   "nbconvert_exporter": "python",
   "pygments_lexer": "ipython3",
   "version": "3.6.3"
  }
 },
 "nbformat": 4,
 "nbformat_minor": 2
}
